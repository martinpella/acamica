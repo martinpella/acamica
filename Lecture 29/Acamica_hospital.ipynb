{
 "cells": [
  {
   "cell_type": "markdown",
   "metadata": {
    "colab_type": "text",
    "id": "4VVUK2b4h04C"
   },
   "source": [
    "# Caracterización y elección de modelos.\n"
   ]
  },
  {
   "cell_type": "markdown",
   "metadata": {
    "colab_type": "text",
    "id": "c9eoENaMh04D"
   },
   "source": [
    "La diabetes es una enfermedad que se presenta cuando el nivel de glucosa en la sangre se eleva, lo que en última instancia conduce a otros problemas de salud como enfermedades cardíacas, enfermedades renales, etc. La diabetes se debe principalmente al consumo de alimentos altamente procesados, malos hábitos de consumo, etc. Según la Organización Mundial de la Salud, el número de personas con diabetes ha aumentado con los años.\n",
    "\n",
    "\n",
    "Un hospital quiere aplicar herramientas de análisis de datos para mejorar el diagnóstico de esta enfemedad, y aprovechar al máximo los recursos que tiene (es decir, los médicos). Para ello, recurre a los estudiantes de Acámica. \n",
    "\n",
    "\n",
    "Este hopital les provee una base de datos con numerosos datos/estudios de pacientes, algunos de ellos con diabetes y otros a quienes los médicos escartaron que tienen esa enfermedad. Lo que al hospital le interesa es que utilicen esta base de datos para identificar <b> pacientes con riesgo </b> de tener diabetes. Una vez identificados, el diagnóstico se efectuará por un médico de carne y hueso. "
   ]
  },
  {
   "cell_type": "markdown",
   "metadata": {
    "colab_type": "text",
    "id": "rOtmb3A9h04E"
   },
   "source": [
    "Para efectuar esta tarea, los estudiantes de Acámica deberán desarrollar un protocolo de Machine Learning. Pero antes, deben pensar los objetivos de ese protocolo en función de los requerimientos del Hospital. Por ejemplo:\n",
    "1. ¿Conviene elegir el algoritmo de ML que más score tiene? ¿O conviene elegir un modelo un poco peor, pero que tega pocos falsos negativos? ¿O falsos positivos?\n",
    "1. ¿Conviene usar un test_set? ¿O conviene usar todos los datos para entrenar el algoritmo?"
   ]
  },
  {
   "cell_type": "markdown",
   "metadata": {
    "colab_type": "text",
    "id": "J6-3wkpLh04E"
   },
   "source": [
    "### Guía para el desarrollo del producto. \n",
    "\n",
    "\n",
    "<b>(a) Preparación e investigación del Data Set:</b>\n",
    "1. Cargar el Dataset \"acamica_diabetes\" para poder empezar a trabajar.\n",
    "1. Hacerse amigue del Data Set. Por ejemplo, ¿Qué columnas tiene? ¿Son numéricas? ¿Cuántas instacias son? etc.\n",
    "1. Separar los datos de entrenamiento y test.\n",
    "1. Proponer y realizar un método de preprocesamiento de datos, preguntándose: ¿Tiene NaNs? ¿Todas las columnas sirven para el análisis? ¿Existen outliers? Etc.\n",
    "\n",
    "<b>(b) Entrenamiento de Algoritmos. </b> Entrenar tres (o más) algoritmos de Aprendizaje Supervisado visto en clase con los datos procesados en (a). Les proponemos utilizar los modelos de Random Forest, Adaboost o Ensemble por votación (por ejemplo, con SVM, RF y KNN), pero pueden utilizar los que más les parezca. Para cada uno:\n",
    "1. Realizar un GridSearch con Cross Validation para encontrar la combinación óptima de hiperparámetros del modelo elegido.\n",
    "1. Reportar el score del Gridsearch sobre los datos de entrenamiento y validación. [No olviden de fijarse si los datos deben ser normalizados antes de realizar el Grid Search].\n",
    "1.  Entrenar el modelo que surja del GridSearch con los datos de entrenamiento.<br><br>\n",
    "1. Reportar la matriz de confusión, el accuracy sobre los datos de entrenamiento, validación (del Cross Validation) y test ,y la curva ROC. \n",
    "\n",
    "<b>(c) Elección del mejor modelo. </b> En función de las métricas que obtuvieron para cada modelo, elegir el mejor según lo requerido por el Hospital. Discutir y justificar POR ESCRITO lo que pensaron a la hora de elegirlo. \n",
    "\n",
    "<b> Algunos consejos.</b> Para el desarrollo del producto, pueden utilizar como inspiración notebooks que trabajamos previamente en el curso. Y GOOGLEAR antes de rendirse. "
   ]
  },
  {
   "cell_type": "code",
   "execution_count": 0,
   "metadata": {
    "colab": {},
    "colab_type": "code",
    "id": "dDUVYWRbh04F"
   },
   "outputs": [],
   "source": []
  }
 ],
 "metadata": {
  "colab": {
   "name": "Acamica_Clase_36_hospital.ipynb",
   "provenance": [],
   "version": "0.3.2"
  },
  "kernelspec": {
   "display_name": "Python 3",
   "language": "python",
   "name": "python3"
  },
  "language_info": {
   "codemirror_mode": {
    "name": "ipython",
    "version": 3
   },
   "file_extension": ".py",
   "mimetype": "text/x-python",
   "name": "python",
   "nbconvert_exporter": "python",
   "pygments_lexer": "ipython3",
   "version": "3.7.1"
  }
 },
 "nbformat": 4,
 "nbformat_minor": 1
}
